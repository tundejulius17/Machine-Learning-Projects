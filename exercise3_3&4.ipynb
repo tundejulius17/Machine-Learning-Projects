{
 "cells": [
  {
   "cell_type": "markdown",
   "metadata": {},
   "source": [
    "### Comparing the performance of the following machine learning models in the classification of German Traffic Sign Recognition Benchmark (GTSRB).\n",
    "1. k-Nearest Neighbor\n",
    "2. Linear Discriminant Analysis\n",
    "3. Logistic Regression\n",
    "4. Linear Support Vector Machine\n",
    "5. RBF Support Vector Machine\n",
    "6. Random Forest\n",
    "7. Convolutional Neural Network (CNN)"
   ]
  },
  {
   "cell_type": "code",
   "execution_count": 1,
   "metadata": {},
   "outputs": [],
   "source": [
    "import os\n",
    "import numpy as np\n",
    "import cv2\n",
    "import matplotlib.pyplot as plt\n",
    "from sklearn.preprocessing import MinMaxScaler"
   ]
  },
  {
   "cell_type": "code",
   "execution_count": 2,
   "metadata": {},
   "outputs": [],
   "source": [
    "# load image data\n",
    "y = []\n",
    "img_vectors = []\n",
    "folder_path = 'GTSRB'\n",
    "width = 32\n",
    "height = 32\n",
    "for idx, folder_name in enumerate(os.listdir(folder_path)):\n",
    "    for filename in (os.listdir(os.path.join(folder_path, folder_name))):\n",
    "        img = cv2.imread(os.path.join(folder_path, folder_name, filename))\n",
    "        img = cv2.resize(img, (width, height))\n",
    "        img = np.ravel(img)\n",
    "        img_vectors.append(img)\n",
    "        y.append(idx)"
   ]
  },
  {
   "cell_type": "code",
   "execution_count": 3,
   "metadata": {},
   "outputs": [
    {
     "data": {
      "text/plain": [
       "8910"
      ]
     },
     "execution_count": 3,
     "metadata": {},
     "output_type": "execute_result"
    }
   ],
   "source": [
    "len(y)"
   ]
  },
  {
   "cell_type": "code",
   "execution_count": 4,
   "metadata": {},
   "outputs": [],
   "source": [
    "y = np.asarray(y)"
   ]
  },
  {
   "cell_type": "code",
   "execution_count": 5,
   "metadata": {},
   "outputs": [
    {
     "data": {
      "text/plain": [
       "(8910,)"
      ]
     },
     "execution_count": 5,
     "metadata": {},
     "output_type": "execute_result"
    }
   ],
   "source": [
    "y.shape"
   ]
  },
  {
   "cell_type": "code",
   "execution_count": 6,
   "metadata": {},
   "outputs": [
    {
     "data": {
      "text/plain": [
       "8910"
      ]
     },
     "execution_count": 6,
     "metadata": {},
     "output_type": "execute_result"
    }
   ],
   "source": [
    "len(img_vectors)"
   ]
  },
  {
   "cell_type": "code",
   "execution_count": 7,
   "metadata": {},
   "outputs": [],
   "source": [
    "X = np.asarray(img_vectors)"
   ]
  },
  {
   "cell_type": "code",
   "execution_count": 8,
   "metadata": {},
   "outputs": [
    {
     "data": {
      "text/plain": [
       "(8910, 3072)"
      ]
     },
     "execution_count": 8,
     "metadata": {},
     "output_type": "execute_result"
    }
   ],
   "source": [
    "X.shape"
   ]
  },
  {
   "cell_type": "code",
   "execution_count": 9,
   "metadata": {},
   "outputs": [],
   "source": [
    "from sklearn.model_selection import train_test_split\n",
    "X_train, X_test, y_train, y_test = train_test_split(X, y, test_size = 0.2, random_state = 0)"
   ]
  },
  {
   "cell_type": "code",
   "execution_count": 10,
   "metadata": {},
   "outputs": [
    {
     "data": {
      "text/plain": [
       "(7128, 3072)"
      ]
     },
     "execution_count": 10,
     "metadata": {},
     "output_type": "execute_result"
    }
   ],
   "source": [
    "X_train.shape"
   ]
  },
  {
   "cell_type": "code",
   "execution_count": 11,
   "metadata": {},
   "outputs": [
    {
     "data": {
      "text/plain": [
       "(1782, 3072)"
      ]
     },
     "execution_count": 11,
     "metadata": {},
     "output_type": "execute_result"
    }
   ],
   "source": [
    "X_test.shape"
   ]
  },
  {
   "cell_type": "code",
   "execution_count": 12,
   "metadata": {},
   "outputs": [
    {
     "data": {
      "text/plain": [
       "(7128,)"
      ]
     },
     "execution_count": 12,
     "metadata": {},
     "output_type": "execute_result"
    }
   ],
   "source": [
    "y_train.shape"
   ]
  },
  {
   "cell_type": "code",
   "execution_count": 13,
   "metadata": {},
   "outputs": [
    {
     "data": {
      "text/plain": [
       "(1782,)"
      ]
     },
     "execution_count": 13,
     "metadata": {},
     "output_type": "execute_result"
    }
   ],
   "source": [
    "y_test.shape"
   ]
  },
  {
   "cell_type": "code",
   "execution_count": 14,
   "metadata": {},
   "outputs": [],
   "source": [
    "scaler = MinMaxScaler().fit(X_train)\n",
    "X_train = scaler.transform(X_train)\n",
    "X_test = scaler.transform(X_test)"
   ]
  },
  {
   "cell_type": "code",
   "execution_count": 15,
   "metadata": {},
   "outputs": [
    {
     "data": {
      "text/plain": [
       "(7128, 3072)"
      ]
     },
     "execution_count": 15,
     "metadata": {},
     "output_type": "execute_result"
    }
   ],
   "source": [
    "X_train.shape"
   ]
  },
  {
   "cell_type": "code",
   "execution_count": 16,
   "metadata": {},
   "outputs": [
    {
     "data": {
      "text/plain": [
       "(1782, 3072)"
      ]
     },
     "execution_count": 16,
     "metadata": {},
     "output_type": "execute_result"
    }
   ],
   "source": [
    "X_test.shape"
   ]
  },
  {
   "cell_type": "code",
   "execution_count": 17,
   "metadata": {},
   "outputs": [],
   "source": [
    "from sklearn.metrics import accuracy_score\n",
    "import time\n",
    "from sklearn.neighbors import KNeighborsClassifier\n",
    "from sklearn.discriminant_analysis import LinearDiscriminantAnalysis\n",
    "from sklearn.linear_model import LogisticRegression\n",
    "from sklearn.svm import SVC\n",
    "from sklearn.ensemble import RandomForestClassifier"
   ]
  },
  {
   "cell_type": "code",
   "execution_count": 18,
   "metadata": {},
   "outputs": [],
   "source": [
    "# put the classifiers in a list\n",
    "classifiers = [(KNeighborsClassifier(n_neighbors=3, metric='euclidean'), '3-Nearest Neighbor'),\n",
    "              (LinearDiscriminantAnalysis(), 'Linear Discriminant Analysis'), \n",
    "              (LogisticRegression(random_state=0), 'Logistic Regression'),  \n",
    "              (SVC(kernel='linear', random_state=0), 'Linear SVM'), \n",
    "              (SVC(kernel='rbf', random_state=0), 'RBF SVM'), \n",
    "              (RandomForestClassifier(n_estimators=20, random_state=0), 'Random Forest')]"
   ]
  },
  {
   "cell_type": "code",
   "execution_count": 19,
   "metadata": {},
   "outputs": [
    {
     "name": "stdout",
     "output_type": "stream",
     "text": [
      "Results for 3-Nearest Neighbor :\n",
      "------------------------------------\n",
      "Accuracy is 90.97 %\n",
      "Training time 17.32\n",
      "Test time 106.48\n",
      "Results for Linear Discriminant Analysis :\n",
      "------------------------------------\n",
      "Accuracy is 76.21 %\n",
      "Training time 34.59\n",
      "Test time 0.02\n"
     ]
    },
    {
     "name": "stderr",
     "output_type": "stream",
     "text": [
      "C:\\Users\\tunde\\anaconda3\\lib\\site-packages\\sklearn\\linear_model\\_logistic.py:762: ConvergenceWarning: lbfgs failed to converge (status=1):\n",
      "STOP: TOTAL NO. of ITERATIONS REACHED LIMIT.\n",
      "\n",
      "Increase the number of iterations (max_iter) or scale the data as shown in:\n",
      "    https://scikit-learn.org/stable/modules/preprocessing.html\n",
      "Please also refer to the documentation for alternative solver options:\n",
      "    https://scikit-learn.org/stable/modules/linear_model.html#logistic-regression\n",
      "  n_iter_i = _check_optimize_result(\n"
     ]
    },
    {
     "name": "stdout",
     "output_type": "stream",
     "text": [
      "Results for Logistic Regression :\n",
      "------------------------------------\n",
      "Accuracy is 91.92 %\n",
      "Training time 7.35\n",
      "Test time 0.02\n",
      "Results for Linear SVM :\n",
      "------------------------------------\n",
      "Accuracy is 94.11 %\n",
      "Training time 144.84\n",
      "Test time 40.80\n",
      "Results for RBF SVM :\n",
      "------------------------------------\n",
      "Accuracy is 79.97 %\n",
      "Training time 388.51\n",
      "Test time 90.64\n",
      "Results for Random Forest :\n",
      "------------------------------------\n",
      "Accuracy is 94.05 %\n",
      "Training time 8.24\n",
      "Test time 0.08\n"
     ]
    }
   ],
   "source": [
    "for clf, name in classifiers:\n",
    "    \n",
    "    train_start_time = time.time()\n",
    "    clf.fit(X_train, y_train) # train the classifier\n",
    "    train_elapsed_time = time.time() - train_start_time # training time\n",
    "    \n",
    "    test_start_time = time.time()\n",
    "    y_pred = clf.predict(X_test) # prediction\n",
    "    test_elapsed_time = time.time() - test_start_time # prediction time\n",
    "    \n",
    "    # prediction accuracy\n",
    "    accuracy = accuracy_score(y_test, y_pred)\n",
    "    \n",
    "    # classification summary\n",
    "    print('Results for', name,':')\n",
    "    print('------------------------------------')\n",
    "    print('Accuracy is {:.2f} %'.format(accuracy*100))\n",
    "    print('Training time {:.2f}'.format(train_elapsed_time))\n",
    "    print('Test time {:.2f}'.format(test_elapsed_time))\n",
    "    "
   ]
  },
  {
   "cell_type": "markdown",
   "metadata": {},
   "source": [
    "|Model                            |Accuracy Score|Training time|Prediction time|\n",
    "|---------------------------------|--------------|-------------|---------------|           \n",
    "|3-Nearest Neighbor               |90.97 %       |17.32        |106.48         |\n",
    "|Linear Discriminant Analysis     |76.21 %       |34.59        |0.02           |\n",
    "|Logistic Regression              |91.92 %       |7.35         |0.02           |\n",
    "|SVM (linear kernel)              |94.11 %       |144.84       |40.80          |\n",
    "|SVM (RBF kernel)                 |79.97 %       |388.51       |90.64          |\n",
    "|Random Forest (n_estimators=20)  |94.05 %       |8.24         |0.08           |\n",
    "|CNN                              |97.87 %       |163.98       |1.14           |"
   ]
  },
  {
   "cell_type": "markdown",
   "metadata": {},
   "source": [
    "### #4"
   ]
  },
  {
   "cell_type": "code",
   "execution_count": 20,
   "metadata": {},
   "outputs": [
    {
     "name": "stdout",
     "output_type": "stream",
     "text": [
      "Results for cross validation\n",
      "Results for Linear SVM :\n",
      "----------------------------------------------\n",
      "Accuracy scores:  [0.95371669 0.92987377 0.93969144 0.93548387 0.93338008]\n",
      "Accuracy: 93.84 %\n",
      "Standard deviation: 0.01\n",
      "Results for Random Forest :\n",
      "----------------------------------------------\n",
      "Accuracy scores:  [0.91865358 0.92706872 0.92075736 0.91514727 0.93478261]\n",
      "Accuracy: 92.33 %\n",
      "Standard deviation: 0.01\n"
     ]
    }
   ],
   "source": [
    "from sklearn.model_selection import cross_val_score, ShuffleSplit\n",
    "classifiers_2_best = [(SVC(kernel='linear', random_state=0), 'Linear SVM'), \n",
    "                     (RandomForestClassifier(n_estimators=20, random_state=0), 'Random Forest')]\n",
    "print('Results for cross validation')\n",
    "for clf, name in classifiers_2_best:\n",
    "    cv = ShuffleSplit(n_splits=5, test_size=0.2, random_state=0) #shuffle the data set\n",
    "    accuracies = cross_val_score(estimator=clf, X=X_train, y=y_train, cv=cv) # cross validation accuracies\n",
    "    print('Results for', name,':')\n",
    "    print('----------------------------------------------')\n",
    "    print('Accuracy scores: ', accuracies)\n",
    "    print('Accuracy: {:.2f} %'.format(accuracies.mean()*100))\n",
    "    print('Standard deviation: {:.2f}'.format(accuracies.std()))"
   ]
  },
  {
   "cell_type": "code",
   "execution_count": null,
   "metadata": {},
   "outputs": [],
   "source": []
  }
 ],
 "metadata": {
  "kernelspec": {
   "display_name": "Python 3",
   "language": "python",
   "name": "python3"
  },
  "language_info": {
   "codemirror_mode": {
    "name": "ipython",
    "version": 3
   },
   "file_extension": ".py",
   "mimetype": "text/x-python",
   "name": "python",
   "nbconvert_exporter": "python",
   "pygments_lexer": "ipython3",
   "version": "3.8.3"
  }
 },
 "nbformat": 4,
 "nbformat_minor": 4
}
