{
 "cells": [
  {
   "cell_type": "markdown",
   "metadata": {},
   "source": [
    "### This is a classification task to detect sound of a bird using CNN"
   ]
  },
  {
   "cell_type": "code",
   "execution_count": 1,
   "metadata": {},
   "outputs": [],
   "source": [
    "import numpy as np"
   ]
  },
  {
   "cell_type": "code",
   "execution_count": 2,
   "metadata": {},
   "outputs": [],
   "source": [
    "def load_data (file, file_path = 'Acoustic'):\n",
    "    data_array = np.load(file_path + '/' + file + '.npy')\n",
    "    return data_array"
   ]
  },
  {
   "cell_type": "code",
   "execution_count": 3,
   "metadata": {},
   "outputs": [],
   "source": [
    "X_train = load_data('X_train')\n",
    "X_test = load_data('X_test')\n",
    "y_train = load_data('y_train')\n",
    "y_test = load_data('y_test')"
   ]
  },
  {
   "cell_type": "code",
   "execution_count": 4,
   "metadata": {},
   "outputs": [
    {
     "name": "stdout",
     "output_type": "stream",
     "text": [
      "(4500, 40, 501) (4500,)\n"
     ]
    }
   ],
   "source": [
    "print(X_train.shape, y_train.shape)"
   ]
  },
  {
   "cell_type": "code",
   "execution_count": 5,
   "metadata": {},
   "outputs": [
    {
     "name": "stdout",
     "output_type": "stream",
     "text": [
      "(1500, 40, 501) (1500,)\n"
     ]
    }
   ],
   "source": [
    "print(X_test.shape, y_test.shape)"
   ]
  },
  {
   "cell_type": "code",
   "execution_count": 6,
   "metadata": {},
   "outputs": [],
   "source": [
    "X_train = X_train[..., np.newaxis]"
   ]
  },
  {
   "cell_type": "code",
   "execution_count": 7,
   "metadata": {},
   "outputs": [
    {
     "data": {
      "text/plain": [
       "(4500, 40, 501, 1)"
      ]
     },
     "execution_count": 7,
     "metadata": {},
     "output_type": "execute_result"
    }
   ],
   "source": [
    "X_train.shape"
   ]
  },
  {
   "cell_type": "code",
   "execution_count": 8,
   "metadata": {},
   "outputs": [],
   "source": [
    "X_test = X_test[..., np.newaxis]"
   ]
  },
  {
   "cell_type": "code",
   "execution_count": 9,
   "metadata": {},
   "outputs": [
    {
     "data": {
      "text/plain": [
       "(1500, 40, 501, 1)"
      ]
     },
     "execution_count": 9,
     "metadata": {},
     "output_type": "execute_result"
    }
   ],
   "source": [
    "X_test.shape"
   ]
  },
  {
   "cell_type": "code",
   "execution_count": 10,
   "metadata": {},
   "outputs": [],
   "source": [
    "from keras.utils import np_utils\n",
    "y_train = np_utils.to_categorical(y_train)"
   ]
  },
  {
   "cell_type": "code",
   "execution_count": 11,
   "metadata": {},
   "outputs": [
    {
     "data": {
      "text/plain": [
       "array([[0., 0., 1., ..., 0., 0., 0.],\n",
       "       [0., 0., 0., ..., 0., 0., 0.],\n",
       "       [0., 0., 0., ..., 0., 0., 0.],\n",
       "       ...,\n",
       "       [0., 0., 0., ..., 0., 0., 0.],\n",
       "       [0., 0., 0., ..., 0., 0., 0.],\n",
       "       [0., 0., 0., ..., 0., 0., 0.]], dtype=float32)"
      ]
     },
     "execution_count": 11,
     "metadata": {},
     "output_type": "execute_result"
    }
   ],
   "source": [
    "y_train"
   ]
  },
  {
   "cell_type": "code",
   "execution_count": 11,
   "metadata": {},
   "outputs": [
    {
     "data": {
      "text/plain": [
       "((4500, 15), (1500,))"
      ]
     },
     "execution_count": 11,
     "metadata": {},
     "output_type": "execute_result"
    }
   ],
   "source": [
    "y_train.shape, y_test.shape"
   ]
  },
  {
   "cell_type": "code",
   "execution_count": 12,
   "metadata": {},
   "outputs": [],
   "source": [
    "import tensorflow as tf\n",
    "layers = [tf.keras.layers.Conv2D(filters=32, kernel_size=5, activation='relu', padding='same', input_shape=(40, 501, 1)), \n",
    "         tf.keras.layers.MaxPool2D(pool_size=2, padding='same'), \n",
    "         tf.keras.layers.Conv2D(filters=32, kernel_size=5, activation='relu', padding='same'), \n",
    "         tf.keras.layers.MaxPool2D(pool_size=2, padding='same'), \n",
    "         tf.keras.layers.Flatten(), \n",
    "         tf.keras.layers.Dense(units=15, activation='softmax')]\n",
    "model = tf.keras.Sequential(layers)"
   ]
  },
  {
   "cell_type": "code",
   "execution_count": 13,
   "metadata": {},
   "outputs": [
    {
     "name": "stdout",
     "output_type": "stream",
     "text": [
      "Model: \"sequential\"\n",
      "_________________________________________________________________\n",
      "Layer (type)                 Output Shape              Param #   \n",
      "=================================================================\n",
      "conv2d (Conv2D)              (None, 40, 501, 32)       832       \n",
      "_________________________________________________________________\n",
      "max_pooling2d (MaxPooling2D) (None, 20, 251, 32)       0         \n",
      "_________________________________________________________________\n",
      "conv2d_1 (Conv2D)            (None, 20, 251, 32)       25632     \n",
      "_________________________________________________________________\n",
      "max_pooling2d_1 (MaxPooling2 (None, 10, 126, 32)       0         \n",
      "_________________________________________________________________\n",
      "flatten (Flatten)            (None, 40320)             0         \n",
      "_________________________________________________________________\n",
      "dense (Dense)                (None, 15)                604815    \n",
      "=================================================================\n",
      "Total params: 631,279\n",
      "Trainable params: 631,279\n",
      "Non-trainable params: 0\n",
      "_________________________________________________________________\n"
     ]
    }
   ],
   "source": [
    "model.summary()"
   ]
  },
  {
   "cell_type": "code",
   "execution_count": 14,
   "metadata": {},
   "outputs": [
    {
     "name": "stdout",
     "output_type": "stream",
     "text": [
      "Epoch 1/20\n",
      "141/141 [==============================] - 87s 620ms/step - loss: 2.6064 - accuracy: 0.1569\n",
      "Epoch 2/20\n",
      "141/141 [==============================] - 82s 584ms/step - loss: 1.7683 - accuracy: 0.3751\n",
      "Epoch 3/20\n",
      "141/141 [==============================] - 89s 630ms/step - loss: 1.3250 - accuracy: 0.5378\n",
      "Epoch 4/20\n",
      "141/141 [==============================] - 89s 630ms/step - loss: 1.1709 - accuracy: 0.5822\n",
      "Epoch 5/20\n",
      "141/141 [==============================] - 85s 605ms/step - loss: 1.1296 - accuracy: 0.6076\n",
      "Epoch 6/20\n",
      "141/141 [==============================] - 92s 650ms/step - loss: 1.0800 - accuracy: 0.6173\n",
      "Epoch 7/20\n",
      "141/141 [==============================] - 94s 666ms/step - loss: 0.9743 - accuracy: 0.6689\n",
      "Epoch 8/20\n",
      "141/141 [==============================] - 90s 642ms/step - loss: 0.9235 - accuracy: 0.6796\n",
      "Epoch 9/20\n",
      "141/141 [==============================] - 88s 625ms/step - loss: 0.8297 - accuracy: 0.7222\n",
      "Epoch 10/20\n",
      "141/141 [==============================] - 86s 612ms/step - loss: 0.7399 - accuracy: 0.7436\n",
      "Epoch 11/20\n",
      "141/141 [==============================] - 87s 620ms/step - loss: 0.6864 - accuracy: 0.7691\n",
      "Epoch 12/20\n",
      "141/141 [==============================] - 86s 608ms/step - loss: 0.5799 - accuracy: 0.8078\n",
      "Epoch 13/20\n",
      "141/141 [==============================] - 83s 585ms/step - loss: 0.5425 - accuracy: 0.8187\n",
      "Epoch 14/20\n",
      "141/141 [==============================] - 82s 584ms/step - loss: 0.4888 - accuracy: 0.8429\n",
      "Epoch 15/20\n",
      "141/141 [==============================] - 84s 594ms/step - loss: 0.4260 - accuracy: 0.8607\n",
      "Epoch 16/20\n",
      "141/141 [==============================] - 83s 589ms/step - loss: 0.3327 - accuracy: 0.8962\n",
      "Epoch 17/20\n",
      "141/141 [==============================] - 82s 583ms/step - loss: 0.3104 - accuracy: 0.9020\n",
      "Epoch 18/20\n",
      "141/141 [==============================] - 84s 595ms/step - loss: 0.2725 - accuracy: 0.9091\n",
      "Epoch 19/20\n",
      "141/141 [==============================] - 84s 599ms/step - loss: 0.2488 - accuracy: 0.9216\n",
      "Epoch 20/20\n",
      "141/141 [==============================] - 85s 600ms/step - loss: 0.1870 - accuracy: 0.9442\n"
     ]
    }
   ],
   "source": [
    "model.compile(optimizer='adam', loss='categorical_crossentropy', metrics=['accuracy'])\n",
    "history = model.fit(x=X_train, y=y_train, epochs=20)"
   ]
  },
  {
   "cell_type": "code",
   "execution_count": 15,
   "metadata": {},
   "outputs": [],
   "source": [
    "y_pred = model.predict(X_test)\n",
    "y_pred = np.argmax(y_pred, axis=1)"
   ]
  },
  {
   "cell_type": "code",
   "execution_count": 16,
   "metadata": {},
   "outputs": [
    {
     "data": {
      "text/plain": [
       "(1500,)"
      ]
     },
     "execution_count": 16,
     "metadata": {},
     "output_type": "execute_result"
    }
   ],
   "source": [
    "y_pred.shape"
   ]
  },
  {
   "cell_type": "code",
   "execution_count": 17,
   "metadata": {},
   "outputs": [
    {
     "name": "stdout",
     "output_type": "stream",
     "text": [
      "Prediction accuracy: 57.53 %\n"
     ]
    }
   ],
   "source": [
    "from sklearn.metrics import accuracy_score\n",
    "print('Prediction accuracy: {:.2f} %'.format(accuracy_score(y_test, y_pred) * 100))\n"
   ]
  },
  {
   "cell_type": "code",
   "execution_count": null,
   "metadata": {},
   "outputs": [],
   "source": []
  }
 ],
 "metadata": {
  "kernelspec": {
   "display_name": "Python 3",
   "language": "python",
   "name": "python3"
  },
  "language_info": {
   "codemirror_mode": {
    "name": "ipython",
    "version": 3
   },
   "file_extension": ".py",
   "mimetype": "text/x-python",
   "name": "python",
   "nbconvert_exporter": "python",
   "pygments_lexer": "ipython3",
   "version": "3.8.3"
  }
 },
 "nbformat": 4,
 "nbformat_minor": 4
}
