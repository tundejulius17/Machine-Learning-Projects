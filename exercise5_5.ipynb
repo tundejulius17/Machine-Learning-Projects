{
 "cells": [
  {
   "cell_type": "markdown",
   "metadata": {},
   "source": [
    "### This is a classification task to detect sound of a bird using LSTM."
   ]
  },
  {
   "cell_type": "code",
   "execution_count": 1,
   "metadata": {},
   "outputs": [],
   "source": [
    "import numpy as np"
   ]
  },
  {
   "cell_type": "code",
   "execution_count": 2,
   "metadata": {},
   "outputs": [],
   "source": [
    "def load_data (file, file_path = 'Acoustic'):\n",
    "    data_array = np.load(file_path + '/' + file + '.npy')\n",
    "    return data_array"
   ]
  },
  {
   "cell_type": "code",
   "execution_count": 3,
   "metadata": {},
   "outputs": [],
   "source": [
    "X_train = load_data('X_train')\n",
    "X_test = load_data('X_test')\n",
    "y_train = load_data('y_train')\n",
    "y_test = load_data('y_test')"
   ]
  },
  {
   "cell_type": "code",
   "execution_count": 4,
   "metadata": {},
   "outputs": [
    {
     "name": "stdout",
     "output_type": "stream",
     "text": [
      "(4500, 40, 501) (4500,)\n"
     ]
    }
   ],
   "source": [
    "print(X_train.shape, y_train.shape)"
   ]
  },
  {
   "cell_type": "code",
   "execution_count": 5,
   "metadata": {},
   "outputs": [
    {
     "name": "stdout",
     "output_type": "stream",
     "text": [
      "(1500, 40, 501) (1500,)\n"
     ]
    }
   ],
   "source": [
    "print(X_test.shape, y_test.shape)"
   ]
  },
  {
   "cell_type": "code",
   "execution_count": 6,
   "metadata": {},
   "outputs": [],
   "source": [
    "X_train = np.transpose(X_train, (0, 2, 1))\n",
    "X_test = np.transpose(X_test, (0, 2, 1))"
   ]
  },
  {
   "cell_type": "code",
   "execution_count": 7,
   "metadata": {},
   "outputs": [
    {
     "data": {
      "text/plain": [
       "((4500, 501, 40), (1500, 501, 40))"
      ]
     },
     "execution_count": 7,
     "metadata": {},
     "output_type": "execute_result"
    }
   ],
   "source": [
    "X_train.shape, X_test.shape"
   ]
  },
  {
   "cell_type": "code",
   "execution_count": 8,
   "metadata": {},
   "outputs": [],
   "source": [
    "import tensorflow as tf\n",
    "from keras.utils import np_utils\n",
    "y_train = np_utils.to_categorical(y_train)\n",
    "#y_test = np_utils.to_categorical(y_test)"
   ]
  },
  {
   "cell_type": "code",
   "execution_count": 9,
   "metadata": {},
   "outputs": [
    {
     "data": {
      "text/plain": [
       "((4500, 15), (1500,))"
      ]
     },
     "execution_count": 9,
     "metadata": {},
     "output_type": "execute_result"
    }
   ],
   "source": [
    "y_train.shape, y_test.shape"
   ]
  },
  {
   "cell_type": "code",
   "execution_count": 10,
   "metadata": {},
   "outputs": [
    {
     "data": {
      "text/plain": [
       "(501, 40)"
      ]
     },
     "execution_count": 10,
     "metadata": {},
     "output_type": "execute_result"
    }
   ],
   "source": [
    "X_train.shape[1:]"
   ]
  },
  {
   "cell_type": "code",
   "execution_count": 11,
   "metadata": {},
   "outputs": [],
   "source": [
    "model = tf.keras.Sequential()"
   ]
  },
  {
   "cell_type": "code",
   "execution_count": 12,
   "metadata": {},
   "outputs": [
    {
     "name": "stdout",
     "output_type": "stream",
     "text": [
      "Epoch 1/30\n",
      "141/141 [==============================] - 16s 111ms/step - loss: 2.6198 - accuracy: 0.1338\n",
      "Epoch 2/30\n",
      "141/141 [==============================] - 17s 120ms/step - loss: 2.4403 - accuracy: 0.2093\n",
      "Epoch 3/30\n",
      "141/141 [==============================] - 17s 122ms/step - loss: 2.2926 - accuracy: 0.2540\n",
      "Epoch 4/30\n",
      "141/141 [==============================] - 18s 125ms/step - loss: 2.1334 - accuracy: 0.2942\n",
      "Epoch 5/30\n",
      "141/141 [==============================] - 18s 127ms/step - loss: 2.0164 - accuracy: 0.3182\n",
      "Epoch 6/30\n",
      "141/141 [==============================] - 18s 129ms/step - loss: 1.9577 - accuracy: 0.3409\n",
      "Epoch 7/30\n",
      "141/141 [==============================] - 18s 126ms/step - loss: 1.8849 - accuracy: 0.3627\n",
      "Epoch 8/30\n",
      "141/141 [==============================] - 18s 125ms/step - loss: 1.8488 - accuracy: 0.3556\n",
      "Epoch 9/30\n",
      "141/141 [==============================] - 18s 126ms/step - loss: 1.8126 - accuracy: 0.3767\n",
      "Epoch 10/30\n",
      "141/141 [==============================] - 17s 121ms/step - loss: 1.7632 - accuracy: 0.3964\n",
      "Epoch 11/30\n",
      "141/141 [==============================] - 17s 122ms/step - loss: 1.7256 - accuracy: 0.4009\n",
      "Epoch 12/30\n",
      "141/141 [==============================] - 18s 126ms/step - loss: 1.7035 - accuracy: 0.4100\n",
      "Epoch 13/30\n",
      "141/141 [==============================] - 18s 124ms/step - loss: 1.6645 - accuracy: 0.4240\n",
      "Epoch 14/30\n",
      "141/141 [==============================] - 17s 123ms/step - loss: 1.6365 - accuracy: 0.4489\n",
      "Epoch 15/30\n",
      "141/141 [==============================] - 17s 122ms/step - loss: 1.6026 - accuracy: 0.4462\n",
      "Epoch 16/30\n",
      "141/141 [==============================] - 18s 127ms/step - loss: 1.5800 - accuracy: 0.4580\n",
      "Epoch 17/30\n",
      "141/141 [==============================] - 18s 127ms/step - loss: 1.5462 - accuracy: 0.4582\n",
      "Epoch 18/30\n",
      "141/141 [==============================] - 17s 122ms/step - loss: 1.5262 - accuracy: 0.4724\n",
      "Epoch 19/30\n",
      "141/141 [==============================] - 18s 125ms/step - loss: 1.5038 - accuracy: 0.4689\n",
      "Epoch 20/30\n",
      "141/141 [==============================] - 18s 126ms/step - loss: 1.4712 - accuracy: 0.5040\n",
      "Epoch 21/30\n",
      "141/141 [==============================] - 17s 122ms/step - loss: 1.4572 - accuracy: 0.5000\n",
      "Epoch 22/30\n",
      "141/141 [==============================] - 17s 121ms/step - loss: 1.4369 - accuracy: 0.5084\n",
      "Epoch 23/30\n",
      "141/141 [==============================] - 18s 126ms/step - loss: 1.4358 - accuracy: 0.5096\n",
      "Epoch 24/30\n",
      "141/141 [==============================] - 18s 127ms/step - loss: 1.4106 - accuracy: 0.5111\n",
      "Epoch 25/30\n",
      "141/141 [==============================] - 17s 123ms/step - loss: 1.3799 - accuracy: 0.5247\n",
      "Epoch 26/30\n",
      "141/141 [==============================] - 17s 121ms/step - loss: 1.3675 - accuracy: 0.5280\n",
      "Epoch 27/30\n",
      "141/141 [==============================] - 18s 127ms/step - loss: 1.3491 - accuracy: 0.5256\n",
      "Epoch 28/30\n",
      "141/141 [==============================] - 17s 124ms/step - loss: 1.3389 - accuracy: 0.5353\n",
      "Epoch 29/30\n",
      "141/141 [==============================] - 17s 122ms/step - loss: 1.3652 - accuracy: 0.5216\n",
      "Epoch 30/30\n",
      "141/141 [==============================] - 18s 125ms/step - loss: 1.3096 - accuracy: 0.5398\n"
     ]
    },
    {
     "data": {
      "text/plain": [
       "<tensorflow.python.keras.callbacks.History at 0x1b357652ca0>"
      ]
     },
     "execution_count": 12,
     "metadata": {},
     "output_type": "execute_result"
    }
   ],
   "source": [
    "model.add(tf.keras.layers.LSTM(32, input_shape=X_train.shape[1:]))\n",
    "model.add(tf.keras.layers.Dense(15, activation='softmax'))\n",
    "model.compile(optimizer='adam', loss='categorical_crossentropy', metrics=['accuracy'])\n",
    "model.fit(x=X_train, y=y_train, epochs=30)"
   ]
  },
  {
   "cell_type": "code",
   "execution_count": 13,
   "metadata": {},
   "outputs": [
    {
     "name": "stdout",
     "output_type": "stream",
     "text": [
      "Model: \"sequential\"\n",
      "_________________________________________________________________\n",
      "Layer (type)                 Output Shape              Param #   \n",
      "=================================================================\n",
      "lstm (LSTM)                  (None, 32)                9344      \n",
      "_________________________________________________________________\n",
      "dense (Dense)                (None, 15)                495       \n",
      "=================================================================\n",
      "Total params: 9,839\n",
      "Trainable params: 9,839\n",
      "Non-trainable params: 0\n",
      "_________________________________________________________________\n"
     ]
    }
   ],
   "source": [
    "model.summary()"
   ]
  },
  {
   "cell_type": "code",
   "execution_count": 14,
   "metadata": {},
   "outputs": [],
   "source": [
    "y_pred = model.predict(X_test)\n",
    "y_pred = np.argmax(y_pred, axis=1)"
   ]
  },
  {
   "cell_type": "code",
   "execution_count": 15,
   "metadata": {},
   "outputs": [
    {
     "data": {
      "text/plain": [
       "(1500,)"
      ]
     },
     "execution_count": 15,
     "metadata": {},
     "output_type": "execute_result"
    }
   ],
   "source": [
    "y_pred.shape"
   ]
  },
  {
   "cell_type": "code",
   "execution_count": 16,
   "metadata": {},
   "outputs": [
    {
     "name": "stdout",
     "output_type": "stream",
     "text": [
      "Prediction accuracy: 47.20 %\n"
     ]
    }
   ],
   "source": [
    "from sklearn.metrics import accuracy_score\n",
    "print('Prediction accuracy: {:.2f} %'.format(accuracy_score(y_test, y_pred) * 100))"
   ]
  },
  {
   "cell_type": "code",
   "execution_count": null,
   "metadata": {},
   "outputs": [],
   "source": []
  },
  {
   "cell_type": "code",
   "execution_count": null,
   "metadata": {},
   "outputs": [],
   "source": []
  }
 ],
 "metadata": {
  "kernelspec": {
   "display_name": "Python 3",
   "language": "python",
   "name": "python3"
  },
  "language_info": {
   "codemirror_mode": {
    "name": "ipython",
    "version": 3
   },
   "file_extension": ".py",
   "mimetype": "text/x-python",
   "name": "python",
   "nbconvert_exporter": "python",
   "pygments_lexer": "ipython3",
   "version": "3.8.3"
  }
 },
 "nbformat": 4,
 "nbformat_minor": 4
}
